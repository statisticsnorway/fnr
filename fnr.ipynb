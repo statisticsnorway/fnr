{
 "cells": [
  {
   "cell_type": "code",
   "execution_count": null,
   "id": "524e63a6-adfc-4dde-9e24-cfff60180865",
   "metadata": {},
   "outputs": [],
   "source": [
    "import matplotlib.pyplot as plt\n",
    "from ipywidgets import interact, interact_manual, FloatSlider, IntSlider, IntRangeSlider, SelectMultiple, Checkbox, Dropdown, HBox, VBox, interactive_output, Label, Layout\n",
    "from IPython.display import display\n",
    "\n",
    "import sys\n",
    "sys.path.append('py')\n",
    "import fnr as fnr"
   ]
  },
  {
   "cell_type": "code",
   "execution_count": null,
   "id": "cf1f2fb8-1f21-40a2-8f78-9c47adcc3692",
   "metadata": {
    "tags": []
   },
   "outputs": [],
   "source": [
    "ind = ['23101', '23102', '23103', '23104', '23105', '23106', '23107', '23108', '23109', '23110', '23120', '23130', '23140', '23150',\n",
    "       '23160', '23170', '23180', '23190', '23201', '23207', '23208', '23210', '23220', '23231', '23232', '23235', '23236', '23241',\n",
    "       '23243', '23244', '23245', '23251', '23259', '23260', '23270', '23280', '23290', '23301', '23302', '23309', '23310', '23320',\n",
    "       '23331', '23332']\n",
    "\n",
    "fnr = fnr.fnr_class(2008, 2020, {'lists': ['pubagg', 'a38np'], 'mappings': {'23IND': ind}})\n",
    "fnr.df"
   ]
  },
  {
   "cell_type": "code",
   "execution_count": null,
   "id": "69faff6b-bcac-49f2-b7b0-eead90bd1393",
   "metadata": {
    "tags": []
   },
   "outputs": [],
   "source": [
    "fnr.return_aggregate('2X29_30', 'VLP')"
   ]
  },
  {
   "cell_type": "code",
   "execution_count": null,
   "id": "b6c6e53d-d718-4824-abca-2c30ff85e804",
   "metadata": {
    "tags": []
   },
   "outputs": [],
   "source": [
    "def plott_aggregat(df):\n",
    "    aargang_min = df.index.get_level_values('årgang').min().year\n",
    "    aargang_max = df.index.get_level_values('årgang').max().year\n",
    "    variabler = [x for x in df.index.get_level_values('nr_variabler').unique().to_list() if x != 'BNPF']\n",
    "    aggregeringer = df.index.get_level_values('aggregering').unique().to_list()\n",
    "    regionsreformer = ['-2017', '2018-2019', '2020-']\n",
    "\n",
    "    def lag_aggregater(variabel, aggregering):\n",
    "        if variabel == 'BRIN':\n",
    "            return [x for x in df[df.index.get_level_values('aggregering') == aggregering].index.get_level_values('aggregat').unique().to_list() if x[0] == '8']\n",
    "        else:\n",
    "            return [x for x in df[df.index.get_level_values('aggregering') == aggregering].index.get_level_values('aggregat').unique().to_list() if x[0] == '2']\n",
    "\n",
    "    def lag_fylker(regionsreform):\n",
    "        if regionsreform == '-2017':\n",
    "            return ['f01', 'f02', 'f03', 'f04', 'f05', 'f06', 'f07', 'f08', 'f09', 'f10', 'f11', 'f12', 'f14', 'f15', 'f16', 'f17', 'f18', 'f19', 'f20', 'f21', 'f23']\n",
    "        if regionsreform == '2018-2019':\n",
    "            return ['f01', 'f02', 'f03', 'f04', 'f05', 'f06', 'f07', 'f08', 'f09', 'f10', 'f11', 'f12', 'f14', 'f15', 'f50', 'f18', 'f19', 'f20', 'f21', 'f23']\n",
    "        if regionsreform == '2020-':\n",
    "            return ['f30', 'f03', 'f34', 'f38', 'f42', 'f11', 'f46', 'f15', 'f50', 'f18', 'f54', 'f21', 'f23']\n",
    "\n",
    "    storrelse_wgt = FloatSlider(value=10, min=0, max=20)\n",
    "    aargang_wgt = IntRangeSlider(value=[aargang_min, aargang_max], min=aargang_min, max=aargang_max)\n",
    "    variabel_wgt = Dropdown(options=variabler, description = 'Variabel', style={'description_width': '3cm'})\n",
    "    aggregering_wgt = Dropdown(options=aggregeringer, value=aggregeringer[1], description = 'Aggregering', style={'description_width': '3cm'})\n",
    "    aggregat_wgt = Dropdown(options=lag_aggregater(variabler[0], aggregeringer[1]), description = 'Aggregat', style={'description_width': '3cm'})\n",
    "    regionsreformer_wgt = Dropdown(options=regionsreformer, value=regionsreformer[2], description = 'Regionsreform', style={'description_width': '3cm'})\n",
    "    fylker_wgt = SelectMultiple(options=lag_fylker(regionsreformer[2]), rows=20)\n",
    "    stack_wgt = Checkbox(value=True, description = 'Stable stolper')\n",
    "\n",
    "    def oppdater_aggregater(arg):\n",
    "        aggregat_wgt.options = lag_aggregater(variabel_wgt.value, aggregering_wgt.value)\n",
    "\n",
    "    def oppdater_fylker(arg):\n",
    "        fylker_wgt.options = lag_fylker(regionsreformer_wgt.value)\n",
    "\n",
    "    variabel_wgt.observe(oppdater_aggregater)\n",
    "    aggregering_wgt.observe(oppdater_aggregater)\n",
    "    regionsreformer_wgt.observe(oppdater_fylker)\n",
    "\n",
    "    def plot_naering(aargang, aggregering, aggregat, variabel, fylker, stack, storrelse):\n",
    "        try:\n",
    "            betingelse = (\n",
    "                (df.index.get_level_values('aggregering') == aggregering) &\n",
    "                (df.index.get_level_values('aggregat') == aggregat) &\n",
    "                (df.index.get_level_values('nr_variabler') == variabel) &\n",
    "                (df.index.get_level_values('årgang').year >= aargang[0]) &\n",
    "                (df.index.get_level_values('årgang').year <= aargang[1])\n",
    "            )\n",
    "            fnr.df[betingelse][list(fylker)].reset_index().set_index('årgang').plot.bar(figsize=(storrelse, storrelse/2), stacked=stack)\n",
    "            plt.xlabel('Årgang')\n",
    "            plt.legend(ncol=10)\n",
    "            plt.show()\n",
    "        except TypeError:\n",
    "            pass\n",
    "\n",
    "    ui = VBox([aargang_wgt, variabel_wgt, aggregering_wgt, aggregat_wgt, regionsreformer_wgt, fylker_wgt, stack_wgt, storrelse_wgt])\n",
    "    out = interactive_output(plot_naering, {'aargang': aargang_wgt,\n",
    "                                            'aggregering': aggregering_wgt,\n",
    "                                            'aggregat': aggregat_wgt,\n",
    "                                            'variabel': variabel_wgt,\n",
    "                                            'fylker': fylker_wgt,\n",
    "                                            'stack': stack_wgt,\n",
    "                                            'storrelse': storrelse_wgt})\n",
    "    display(HBox([ui, out]))\n",
    "\n",
    "\n",
    "plott_aggregat(fnr.df)"
   ]
  },
  {
   "cell_type": "code",
   "execution_count": null,
   "id": "02388548-afcc-4718-861e-13557b44f4ad",
   "metadata": {},
   "outputs": [],
   "source": []
  }
 ],
 "metadata": {
  "kernelspec": {
   "display_name": "Python3",
   "language": "python",
   "name": "python3"
  },
  "language_info": {
   "codemirror_mode": {
    "name": "ipython",
    "version": 3
   },
   "file_extension": ".py",
   "mimetype": "text/x-python",
   "name": "python",
   "nbconvert_exporter": "python",
   "pygments_lexer": "ipython3",
   "version": "3.10.8"
  }
 },
 "nbformat": 4,
 "nbformat_minor": 5
}
