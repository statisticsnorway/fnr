{
 "cells": [
  {
   "cell_type": "markdown",
   "id": "9193e95d-9369-475b-b8d4-b1fd5b2de3a9",
   "metadata": {},
   "source": [
    "# Produksjonssystem for FNR\n",
    "\n",
    "Det første vi gjør er å laste inn nødvendige biblioteker\n",
    "* matplotlib for plotting\n",
    "* ipywidgets og IPython for menyer\n",
    "* toml for å laste inn filer med opsjoner\n",
    "\n",
    "I tillegg laster vi inn FNR-klassen fra fnr.py"
   ]
  },
  {
   "cell_type": "code",
   "execution_count": null,
   "id": "524e63a6-adfc-4dde-9e24-cfff60180865",
   "metadata": {
    "tags": []
   },
   "outputs": [],
   "source": [
    "import pandas as pd\n",
    "import toml\n",
    "from fnr_plott_og_tabell import *\n",
    "\n",
    "import sys\n",
    "sys.path.append('py')\n",
    "import fnr as fnr\n",
    "\n",
    "%matplotlib inline"
   ]
  },
  {
   "cell_type": "markdown",
   "id": "89bb6d8d-7792-47a6-91dd-8fa425d94e29",
   "metadata": {},
   "source": [
    "# Oppsett av FNR-klassen\n",
    "Vi setter først opp sti til data og kataloger (for aggregering).\n",
    "I tillegg setter vi opp en liste med alle fylker vi ønsker å ha med samt aggregeringer som ikke ligger i omkodingskatalogen.\n",
    "Vi laster dette inn fra en toml-fil i samme mappe."
   ]
  },
  {
   "cell_type": "code",
   "execution_count": null,
   "id": "7b9e1b21-bff1-4354-bf36-2d120c6b12a1",
   "metadata": {},
   "outputs": [],
   "source": [
    "config = toml.load('config.toml')\n",
    "mappings = config.get('mappings')\n",
    "fylker = config.get('fylker').get('fylker')\n",
    "data = config.get('filstier').get('data')\n",
    "katalog = config.get('filstier').get('katalog')"
   ]
  },
  {
   "cell_type": "markdown",
   "id": "a0f541e2-c63a-4782-9b4d-77c8ed84cf5f",
   "metadata": {},
   "source": [
    "Deretter initialiserer vi FNR-klassen og laster inn data for ønskede årganger. Under vises også hvordan man laster inn en ekstra årgang."
   ]
  },
  {
   "cell_type": "code",
   "execution_count": null,
   "id": "cf1f2fb8-1f21-40a2-8f78-9c47adcc3692",
   "metadata": {
    "tags": []
   },
   "outputs": [],
   "source": [
    "fnr = fnr.fnr_class(2008, 2019, {'lists': ['pubagg', 'a38np'], 'mappings': mappings}, fylker, data, katalog)\n",
    "fnr.add_year(2020)"
   ]
  },
  {
   "cell_type": "markdown",
   "id": "fb160277-db98-4463-857a-fa6355dfd8f4",
   "metadata": {},
   "source": [
    "Nå har vi en \"instance\"/et tilfelle av FNR-klassen. En egenskap ved denne er DataFrame'en med alle dataene."
   ]
  },
  {
   "cell_type": "code",
   "execution_count": null,
   "id": "7df7606f-4b44-4977-ac04-d778164e9e0a",
   "metadata": {
    "tags": []
   },
   "outputs": [],
   "source": [
    "fnr.return_selection('pubagg', [2020], ['bnp'], ['2x35', '2x41_43'], [], wide_by='fylke', round_to=0)"
   ]
  },
  {
   "cell_type": "markdown",
   "id": "85fd2322-6373-44aa-9803-d6b6373c789e",
   "metadata": {
    "tags": []
   },
   "source": [
    "# Plotting\n",
    "FNR-klassen har to metoder (funksjoner) man kan benytte seg av. Den ene heter **return_selecion()**. Man kan skrive *help(return_selection)* for se hvordan denne brukes.\n",
    "Metoden **return_selection()** kan brukes til å hente ut data og foreksemepel plotte disse som vist under."
   ]
  },
  {
   "cell_type": "code",
   "execution_count": null,
   "id": "824e65eb-5c50-4a95-b185-4ffe83526534",
   "metadata": {
    "tags": []
   },
   "outputs": [],
   "source": [
    "plott_fylke(fnr.df, fnr)"
   ]
  },
  {
   "cell_type": "code",
   "execution_count": null,
   "id": "062f2eed-6b3d-4097-b6a7-908e12ef499c",
   "metadata": {
    "tags": []
   },
   "outputs": [],
   "source": [
    "plott_naering(fnr.df, fnr.agg_dict, fnr)"
   ]
  },
  {
   "cell_type": "code",
   "execution_count": null,
   "id": "9d5f0d03-688f-4b78-8419-d5993f579670",
   "metadata": {},
   "outputs": [],
   "source": [
    "plott_naering2(fnr.df, fnr.agg_dict, fnr)"
   ]
  },
  {
   "cell_type": "markdown",
   "id": "3174fd24-7b09-4fdc-98e1-60f1a89f1484",
   "metadata": {},
   "source": [
    "# Tabulering av data\n",
    "Man kan også bruke metoden **return_selection()** til å tabulere valgte data."
   ]
  },
  {
   "cell_type": "code",
   "execution_count": null,
   "id": "a89b94ab-4718-42dc-abd2-20ef34b8509f",
   "metadata": {
    "tags": []
   },
   "outputs": [],
   "source": [
    "lag_tabell(fnr.df, fnr.agg_dict, fnr)"
   ]
  },
  {
   "cell_type": "markdown",
   "id": "fa0aac86-4efe-47d8-9430-1ac0ee53714d",
   "metadata": {
    "tags": []
   },
   "source": [
    "# Prikking av data\n",
    "Den andre metoden i klassen heter **supress_data()**. Denne prikker data (setter verdiene til \"not a number/nan\"). Den tar i mot en dictionary med nøklene årgang og en liste med par av næringer og fylker som skal prikkes."
   ]
  },
  {
   "cell_type": "code",
   "execution_count": null,
   "id": "cac299d0-7b97-48e8-8156-aa414060da7c",
   "metadata": {
    "tags": []
   },
   "outputs": [],
   "source": [
    "fnr.suppress_data({2020: [['2x90_97', 'f54'], ['2x85', 'f30']]})\n",
    "fnr.df"
   ]
  },
  {
   "cell_type": "markdown",
   "id": "14dcf7a2-0638-4fea-909e-0c0d64613a8e",
   "metadata": {},
   "source": [
    "# Ekstra\n",
    "Eksempel på bruk av **return_selection()**."
   ]
  },
  {
   "cell_type": "code",
   "execution_count": null,
   "id": "77079faf-f660-4bed-ad28-38c58211bcd7",
   "metadata": {
    "tags": []
   },
   "outputs": [],
   "source": [
    "fnr.return_selection('pubagg', [], ['bnp'], [], None, round_to=0, wide_by='fylke', first_diff=True)"
   ]
  },
  {
   "cell_type": "code",
   "execution_count": null,
   "id": "22733df5-2ab4-4119-a0f7-f8c80d80180c",
   "metadata": {},
   "outputs": [],
   "source": [
    "fnr.return_selection('pubagg', [2019,2020], ['bnp'], ['2x35', '2x41_43'], ['f30', 'f03', 'f34'], wide_by='aggregat', round_to=0, sort_by_row=[pd.Period('2020'), 'bnp', 'f03'])"
   ]
  },
  {
   "cell_type": "code",
   "execution_count": null,
   "id": "7e8c8c97-8c1a-4b7a-9845-68902252f821",
   "metadata": {},
   "outputs": [],
   "source": [
    "fnr.return_selection('pubagg', [2019,2020], ['bnp'], ['2x35', '2x41_43'], ['f30', 'f03', 'f34'], wide_by='årgang', round_to=0, sort_by=['2020'])"
   ]
  }
 ],
 "metadata": {
  "kernelspec": {
   "display_name": "Python3",
   "language": "python",
   "name": "python3"
  },
  "language_info": {
   "codemirror_mode": {
    "name": "ipython",
    "version": 3
   },
   "file_extension": ".py",
   "mimetype": "text/x-python",
   "name": "python",
   "nbconvert_exporter": "python",
   "pygments_lexer": "ipython3",
   "version": "3.10.8"
  }
 },
 "nbformat": 4,
 "nbformat_minor": 5
}
