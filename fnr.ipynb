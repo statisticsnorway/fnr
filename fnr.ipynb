{
 "cells": [
  {
   "cell_type": "code",
   "execution_count": null,
   "id": "524e63a6-adfc-4dde-9e24-cfff60180865",
   "metadata": {},
   "outputs": [],
   "source": [
    "import matplotlib.pyplot as plt\n",
    "from ipywidgets import interact, interact_manual, FloatSlider, IntSlider, IntRangeSlider, SelectMultiple, Checkbox, Dropdown, HBox, VBox, interactive_output, Label, Layout, HTML\n",
    "from IPython.display import display\n",
    "import toml\n",
    "\n",
    "import sys\n",
    "sys.path.append('py')\n",
    "import fnr as fnr\n",
    "\n",
    "%matplotlib inline"
   ]
  },
  {
   "cell_type": "markdown",
   "id": "89bb6d8d-7792-47a6-91dd-8fa425d94e29",
   "metadata": {},
   "source": [
    "# Oppsett av FNR-klassen\n",
    "Vi setter først opp sti til data og kataloger (aggregering).\n",
    "I tillegg setter vi opp en liste med alle fylker vi ønsker å ha med samt aggregeringer som ikke ligger i omkodingskatalogen. Vi laster dette inn fra en toml-fil i samme mappe."
   ]
  },
  {
   "cell_type": "code",
   "execution_count": null,
   "id": "7b9e1b21-bff1-4354-bf36-2d120c6b12a1",
   "metadata": {},
   "outputs": [],
   "source": [
    "config = toml.load('config.toml')\n",
    "mappings = config.get('mappings')\n",
    "fylker = config.get('fylker').get('fylker')\n",
    "data = config.get('filstier').get('data')\n",
    "katalog = config.get('filstier').get('katalog')"
   ]
  },
  {
   "cell_type": "markdown",
   "id": "a0f541e2-c63a-4782-9b4d-77c8ed84cf5f",
   "metadata": {},
   "source": [
    "Deretter initialiserer vi FNR-klassen og laster inn data for ønskede årganger. Under vises også hvordan man laster inn en ekstra årgang."
   ]
  },
  {
   "cell_type": "code",
   "execution_count": null,
   "id": "cf1f2fb8-1f21-40a2-8f78-9c47adcc3692",
   "metadata": {
    "tags": []
   },
   "outputs": [],
   "source": [
    "fnr = fnr.fnr_class(2008, 2019, {'lists': ['pubagg', 'a38np'], 'mappings': mappings}, fylker, data, katalog)\n",
    "fnr.add_year(2020)"
   ]
  },
  {
   "cell_type": "markdown",
   "id": "85fd2322-6373-44aa-9803-d6b6373c789e",
   "metadata": {},
   "source": [
    "# Plotting\n",
    "FNR-klassen har to metoder (funksjoner) man kan benytte seg av. Den ene heter 'return_selecion()'. Man kan skrive help(return_selection) for se hvordan denne brukes.\n",
    "\n",
    "Metoden return_selection() kan brukes til å hente ut data og foreksemepel plotte disse som vist under."
   ]
  },
  {
   "cell_type": "code",
   "execution_count": null,
   "id": "824e65eb-5c50-4a95-b185-4ffe83526534",
   "metadata": {
    "tags": []
   },
   "outputs": [],
   "source": [
    "def plott_fylke(df):\n",
    "    aargang_min = df.index.get_level_values('årgang').min().year\n",
    "    aargang_max = df.index.get_level_values('årgang').max().year\n",
    "    variabler = [x for x in df.index.get_level_values('nr_variabler').unique().to_list() if x != 'BNPF']\n",
    "    aggregeringer = df.index.get_level_values('aggregering').unique().to_list()\n",
    "    regionsreformer = ['-2017', '2018-2019', '2020-']\n",
    "\n",
    "    def lag_aggregater(variabel, aggregering):\n",
    "        if variabel == 'BRIN':\n",
    "            return [x for x in df[df.index.get_level_values('aggregering') == aggregering].index.get_level_values('aggregat').unique().to_list() if x[0] == '8']\n",
    "        else:\n",
    "            return [x for x in df[df.index.get_level_values('aggregering') == aggregering].index.get_level_values('aggregat').unique().to_list() if x[0] == '2']\n",
    "\n",
    "    def lag_fylker(regionsreform):\n",
    "        if regionsreform == '-2017':\n",
    "            return ['f01', 'f02', 'f03', 'f04', 'f05', 'f06', 'f07', 'f08', 'f09', 'f10', 'f11', 'f12', 'f14', 'f15', 'f16', 'f17', 'f18', 'f19', 'f20', 'f21', 'f23']\n",
    "        if regionsreform == '2018-2019':\n",
    "            return ['f01', 'f02', 'f03', 'f04', 'f05', 'f06', 'f07', 'f08', 'f09', 'f10', 'f11', 'f12', 'f14', 'f15', 'f50', 'f18', 'f19', 'f20', 'f21', 'f23']\n",
    "        if regionsreform == '2020-':\n",
    "            return ['f30', 'f03', 'f34', 'f38', 'f42', 'f11', 'f46', 'f15', 'f50', 'f18', 'f54', 'f21', 'f23']\n",
    "\n",
    "    storrelse_wgt = FloatSlider(value=10, min=0, max=20)\n",
    "    aargang_wgt = IntRangeSlider(value=[aargang_min, aargang_max], min=aargang_min, max=aargang_max)\n",
    "    variabel_wgt = Dropdown(options=variabler, description='Variabel', style={'description_width': '3cm'})\n",
    "    aggregering_wgt = Dropdown(options=aggregeringer, value=aggregeringer[1], description = 'Aggregering', style={'description_width': '3cm'})\n",
    "    aggregat_wgt = Dropdown(options=lag_aggregater(variabler[0], aggregeringer[1]), description = 'Aggregat', style={'description_width': '3cm'})\n",
    "    regionsreformer_wgt = Dropdown(options=regionsreformer, value=regionsreformer[2], description = 'Regionsreform', style={'description_width': '3cm'})\n",
    "    fylker_wgt = SelectMultiple(options=lag_fylker(regionsreformer[2]), description = 'Fylke', style={'description_width': '3cm'}, rows=10)\n",
    "    stack_wgt = Checkbox(value=True, description='Stable stolper')\n",
    "    first_diff_wgt = Checkbox(value=False, description='Førstedifferanse')\n",
    "\n",
    "    def oppdater_aggregater(arg):\n",
    "        aggregat_wgt.options = lag_aggregater(variabel_wgt.value, aggregering_wgt.value)\n",
    "\n",
    "    def oppdater_fylker(arg):\n",
    "        fylker_wgt.options = lag_fylker(regionsreformer_wgt.value)\n",
    "\n",
    "    variabel_wgt.observe(oppdater_aggregater)\n",
    "    aggregering_wgt.observe(oppdater_aggregater)\n",
    "    regionsreformer_wgt.observe(oppdater_fylker)\n",
    "\n",
    "    def plot_naering(aargang, aggregering, aggregat, variabel, fylker, stack, forste_diff):\n",
    "        try:\n",
    "            (\n",
    "                fnr\n",
    "                .return_selection(aggregering, list(range(aargang[0], aargang[1]+1)), [variabel], [aggregat], fylker, wide_by='fylke', first_diff=forste_diff)\n",
    "                .data\n",
    "                .reset_index().set_index('årgang')\n",
    "                .plot\n",
    "                .bar(figsize=(15, 7.5), stacked=stack)\n",
    "            )\n",
    "            plt.xlabel('Årgang')\n",
    "            plt.legend(ncol=10)\n",
    "            plt.show()\n",
    "        except TypeError:\n",
    "            pass\n",
    "\n",
    "    ui = HBox([VBox([stack_wgt, first_diff_wgt, aargang_wgt, variabel_wgt, aggregering_wgt, aggregat_wgt]), VBox([regionsreformer_wgt, fylker_wgt])])\n",
    "    out = interactive_output(plot_naering, {'aargang': aargang_wgt,\n",
    "                                            'aggregering': aggregering_wgt,\n",
    "                                            'aggregat': aggregat_wgt,\n",
    "                                            'variabel': variabel_wgt,\n",
    "                                            'fylker': fylker_wgt,\n",
    "                                            'stack': stack_wgt,\n",
    "                                            'forste_diff': first_diff_wgt})\n",
    "    display(ui, out)\n",
    "\n",
    "\n",
    "plott_fylke(fnr.df)"
   ]
  },
  {
   "cell_type": "code",
   "execution_count": null,
   "id": "062f2eed-6b3d-4097-b6a7-908e12ef499c",
   "metadata": {
    "tags": []
   },
   "outputs": [],
   "source": [
    "def plott_aggregat(df):\n",
    "    aargang_min = df.index.get_level_values('årgang').min().year\n",
    "    aargang_max = df.index.get_level_values('årgang').max().year\n",
    "    variabler = [x for x in df.index.get_level_values('nr_variabler').unique().to_list() if x != 'BNPF']\n",
    "    aggregeringer = df.index.get_level_values('aggregering').unique().to_list()\n",
    "    regionsreformer = ['-2017', '2018-2019', '2020-']\n",
    "\n",
    "    def lag_aggregater(variabel, aggregering):\n",
    "        if variabel == 'BRIN':\n",
    "            return [x for x in df[df.index.get_level_values('aggregering') == aggregering].index.get_level_values('aggregat').unique().to_list() if x[0] == '8']\n",
    "        else:\n",
    "            return [x for x in df[df.index.get_level_values('aggregering') == aggregering].index.get_level_values('aggregat').unique().to_list() if x[0] == '2']\n",
    "\n",
    "    def lag_fylker(regionsreform):\n",
    "        if regionsreform == '-2017':\n",
    "            return ['f01', 'f02', 'f03', 'f04', 'f05', 'f06', 'f07', 'f08', 'f09', 'f10', 'f11', 'f12', 'f14', 'f15', 'f16', 'f17', 'f18', 'f19', 'f20', 'f21', 'f23']\n",
    "        if regionsreform == '2018-2019':\n",
    "            return ['f01', 'f02', 'f03', 'f04', 'f05', 'f06', 'f07', 'f08', 'f09', 'f10', 'f11', 'f12', 'f14', 'f15', 'f50', 'f18', 'f19', 'f20', 'f21', 'f23']\n",
    "        if regionsreform == '2020-':\n",
    "            return ['f30', 'f03', 'f34', 'f38', 'f42', 'f11', 'f46', 'f15', 'f50', 'f18', 'f54', 'f21', 'f23']\n",
    "\n",
    "    aargang_wgt = IntRangeSlider(value=[aargang_min, aargang_max], min=aargang_min, max=aargang_max)\n",
    "    variabel_wgt = Dropdown(options=variabler, description='Variabel', style={'description_width': '3cm'})\n",
    "    aggregering_wgt = Dropdown(options=aggregeringer, value=aggregeringer[1], description = 'Aggregering', style={'description_width': '3cm'})\n",
    "    aggregat_wgt = SelectMultiple(options=lag_aggregater(variabler[0], aggregeringer[1]), description = 'Aggregat', style={'description_width': '3cm'}, rows=10)\n",
    "    regionsreformer_wgt = Dropdown(options=regionsreformer, value=regionsreformer[2], description = 'Regionsreform', style={'description_width': '3cm'})\n",
    "    fylker_wgt = Dropdown(options=lag_fylker(regionsreformer[2]), description = 'Fylke', style={'description_width': '3cm'})\n",
    "    stack_wgt = Checkbox(value=True, description='Stable stolper')\n",
    "    first_diff_wgt = Checkbox(value=False, description='Førstedifferanse')\n",
    "\n",
    "    def oppdater_aggregater(arg):\n",
    "        aggregat_wgt.options = lag_aggregater(variabel_wgt.value, aggregering_wgt.value)\n",
    "\n",
    "    def oppdater_fylker(arg):\n",
    "        fylker_wgt.options = lag_fylker(regionsreformer_wgt.value)\n",
    "\n",
    "    variabel_wgt.observe(oppdater_aggregater)\n",
    "    aggregering_wgt.observe(oppdater_aggregater)\n",
    "    regionsreformer_wgt.observe(oppdater_fylker)\n",
    "\n",
    "    def plot_naering(aargang, aggregering, aggregat, variabel, fylker, stack, forste_diff):\n",
    "        try:\n",
    "            (\n",
    "                fnr\n",
    "                .return_selection(aggregering, list(range(aargang[0], aargang[1]+1)), [variabel], aggregat, [fylker], wide_by='aggregat', first_diff=forste_diff)\n",
    "                .data\n",
    "                .reset_index().set_index('årgang')\n",
    "                .plot\n",
    "                .bar(figsize=(15, 7.5), stacked=stack)\n",
    "            )\n",
    "            plt.xlabel('Årgang')\n",
    "            plt.legend(ncol=10)\n",
    "            plt.show()\n",
    "        except TypeError:\n",
    "            pass\n",
    "\n",
    "    ui = HBox([VBox([stack_wgt, first_diff_wgt, aargang_wgt, variabel_wgt, regionsreformer_wgt, fylker_wgt]), VBox([aggregering_wgt, aggregat_wgt])])\n",
    "    out = interactive_output(plot_naering, {'aargang': aargang_wgt,\n",
    "                                            'aggregering': aggregering_wgt,\n",
    "                                            'aggregat': aggregat_wgt,\n",
    "                                            'variabel': variabel_wgt,\n",
    "                                            'fylker': fylker_wgt,\n",
    "                                            'stack': stack_wgt,\n",
    "                                            'forste_diff': first_diff_wgt})\n",
    "    display(ui, out)\n",
    "\n",
    "\n",
    "plott_aggregat(fnr.df)"
   ]
  },
  {
   "cell_type": "markdown",
   "id": "3174fd24-7b09-4fdc-98e1-60f1a89f1484",
   "metadata": {},
   "source": [
    "# Tabulering av data\n",
    "\n",
    "Man kan også bruke metoden return_selection() til å tabulere valgte data."
   ]
  },
  {
   "cell_type": "code",
   "execution_count": null,
   "id": "a89b94ab-4718-42dc-abd2-20ef34b8509f",
   "metadata": {
    "tags": []
   },
   "outputs": [],
   "source": [
    "def lag_tabell(df):\n",
    "    aargang_min = df.index.get_level_values('årgang').min().year\n",
    "    aargang_max = df.index.get_level_values('årgang').max().year\n",
    "    variabler = [x for x in df.index.get_level_values('nr_variabler').unique().to_list() if x != 'bnpf']\n",
    "    aggregeringer = df.index.get_level_values('aggregering').unique().to_list()\n",
    "    regionsreformer = ['-2017', '2018-2019', '2020-']\n",
    "\n",
    "    def lag_aggregater(variabel, aggregering):\n",
    "        if variabel == 'brin':\n",
    "            return [x for x in df[df.index.get_level_values('aggregering') == aggregering].index.get_level_values('aggregat').unique().to_list() if x[0] == '8']\n",
    "        else:\n",
    "            return [x for x in df[df.index.get_level_values('aggregering') == aggregering].index.get_level_values('aggregat').unique().to_list() if x[0] == '2']\n",
    "\n",
    "    def lag_fylker(regionsreform):\n",
    "        if regionsreform == '-2017':\n",
    "            return ['f01', 'f02', 'f03', 'f04', 'f05', 'f06', 'f07', 'f08', 'f09', 'f10', 'f11', 'f12', 'f14', 'f15', 'f16', 'f17', 'f18', 'f19', 'f20', 'f21', 'f23']\n",
    "        if regionsreform == '2018-2019':\n",
    "            return ['f01', 'f02', 'f03', 'f04', 'f05', 'f06', 'f07', 'f08', 'f09', 'f10', 'f11', 'f12', 'f14', 'f15', 'f50', 'f18', 'f19', 'f20', 'f21', 'f23']\n",
    "        if regionsreform == '2020-':\n",
    "            return ['f30', 'f03', 'f34', 'f38', 'f42', 'f11', 'f46', 'f15', 'f50', 'f18', 'f54', 'f21', 'f23']\n",
    "\n",
    "    storrelse_wgt = FloatSlider(value=10, min=0, max=20)\n",
    "    aargang_wgt = IntRangeSlider(value=[aargang_min, aargang_max], min=aargang_min, max=aargang_max)\n",
    "    variabel_wgt = Dropdown(options=variabler, description='Variabel', style={'description_width': '3cm'})\n",
    "    aggregering_wgt = Dropdown(options=aggregeringer, value=aggregeringer[1], description = 'Aggregering', style={'description_width': '3cm'})\n",
    "    aggregat_wgt = SelectMultiple(options=lag_aggregater(variabler[0], aggregeringer[1]), description = 'Aggregat', style={'description_width': '3cm'}, rows=10)\n",
    "    regionsreformer_wgt = Dropdown(options=regionsreformer, value=regionsreformer[2], description = 'Regionsreform', style={'description_width': '3cm'})\n",
    "    fylker_wgt = SelectMultiple(options=lag_fylker(regionsreformer[2]), description = 'Fylke', style={'description_width': '3cm'}, rows=10)\n",
    "    round_wgt = Checkbox(value=True, description='Rund av')\n",
    "    first_diff_wgt = Checkbox(value=False, description='Førstedifferanse')\n",
    "\n",
    "    def oppdater_aggregater(arg):\n",
    "        aggregat_wgt.options = lag_aggregater(variabel_wgt.value, aggregering_wgt.value)\n",
    "\n",
    "    def oppdater_fylker(arg):\n",
    "        fylker_wgt.options = lag_fylker(regionsreformer_wgt.value)\n",
    "\n",
    "    variabel_wgt.observe(oppdater_aggregater)\n",
    "    aggregering_wgt.observe(oppdater_aggregater)\n",
    "    regionsreformer_wgt.observe(oppdater_fylker)\n",
    "\n",
    "    def skriv_tabell(aargang, aggregering, aggregat, variabel, fylker, rund_av, forste_diff):\n",
    "        try:\n",
    "            display(\n",
    "                fnr\n",
    "                .return_selection(aggregering, list(range(aargang[0], aargang[1]+1)), [variabel], aggregat, fylker, wide_by='fylke', round_to=(0 if rund_av else 1), first_diff=forste_diff)\n",
    "            )\n",
    "        except TypeError:\n",
    "            pass\n",
    "\n",
    "    ui = HBox([VBox([round_wgt, first_diff_wgt, aargang_wgt, variabel_wgt]), VBox([aggregering_wgt, aggregat_wgt]), VBox([regionsreformer_wgt, fylker_wgt])])\n",
    "    out = interactive_output(skriv_tabell, {'aargang': aargang_wgt,\n",
    "                                            'aggregering': aggregering_wgt,\n",
    "                                            'aggregat': aggregat_wgt,\n",
    "                                            'variabel': variabel_wgt,\n",
    "                                            'fylker': fylker_wgt,\n",
    "                                            'rund_av': round_wgt,\n",
    "                                            'forste_diff': first_diff_wgt})\n",
    "    display(ui, out)\n",
    "\n",
    "\n",
    "lag_tabell(fnr.df)"
   ]
  },
  {
   "cell_type": "markdown",
   "id": "fa0aac86-4efe-47d8-9430-1ac0ee53714d",
   "metadata": {
    "tags": []
   },
   "source": [
    "# Prikking av data"
   ]
  },
  {
   "cell_type": "code",
   "execution_count": null,
   "id": "cac299d0-7b97-48e8-8156-aa414060da7c",
   "metadata": {},
   "outputs": [],
   "source": [
    "fnr.suppress_data({2020: [['2x90_97', 'f54'], ['2x85', 'f30']]})\n",
    "fnr.df"
   ]
  },
  {
   "cell_type": "code",
   "execution_count": null,
   "id": "77079faf-f660-4bed-ad28-38c58211bcd7",
   "metadata": {
    "tags": []
   },
   "outputs": [],
   "source": [
    "fnr.return_selection('pubagg', [], ['bnp'], '2x41_43', None, round_to=0, wide_by='fylke', first_diff=True)"
   ]
  },
  {
   "cell_type": "code",
   "execution_count": null,
   "id": "21136925-78e3-4f17-820d-091ccbbb42d7",
   "metadata": {},
   "outputs": [],
   "source": []
  }
 ],
 "metadata": {
  "kernelspec": {
   "display_name": "Python3",
   "language": "python",
   "name": "python3"
  },
  "language_info": {
   "codemirror_mode": {
    "name": "ipython",
    "version": 3
   },
   "file_extension": ".py",
   "mimetype": "text/x-python",
   "name": "python",
   "nbconvert_exporter": "python",
   "pygments_lexer": "ipython3",
   "version": "3.10.8"
  }
 },
 "nbformat": 4,
 "nbformat_minor": 5
}
